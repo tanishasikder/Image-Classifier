{
 "cells": [
  {
   "cell_type": "markdown",
   "id": "5a22d53e",
   "metadata": {},
   "source": [
    "This notebook is for descriptive analysis purposes of the dataset"
   ]
  },
  {
   "cell_type": "code",
   "execution_count": 28,
   "id": "d72f9e3d",
   "metadata": {},
   "outputs": [],
   "source": [
    "import kagglehub\n",
    "import torch\n",
    "import torch.nn as nn\n",
    "from torchvision.datasets import ImageFolder\n",
    "from torchvision import transforms\n",
    "from torch.utils.data import DataLoader, random_split\n",
    "import torchvision.models as models\n",
    "from sklearn.tree import DecisionTreeClassifier\n",
    "from sklearn.svm import SVC\n",
    "from sklearn.ensemble import RandomForestClassifier\n",
    "from sklearn.metrics import accuracy_score\n",
    "import pandas as pd\n",
    "from torchvision.models import resnet18, ResNet18_Weights\n",
    "import numpy as np\n",
    "\n",
    "path = kagglehub.dataset_download(\"jessicali9530/caltech256\")\n",
    "device = torch.device('cuda' if torch.cuda.is_available() else 'cpu')\n",
    "\n",
    "# There are 256 object categories\n",
    "num_classes = 256\n",
    "num_epochs = 10\n",
    "learning_rate = 0.001\n",
    "\n",
    "# Transformations for the images\n",
    "transform = transforms.Compose([\n",
    "    transforms.Resize((32, 32)),\n",
    "    transforms.ToTensor(),\n",
    "    transforms.Normalize((0.5, 0.5, 0.5), (0.5, 0.5, 0.5))\n",
    "])\n"
   ]
  },
  {
   "cell_type": "code",
   "execution_count": 29,
   "id": "4ab71360",
   "metadata": {},
   "outputs": [],
   "source": [
    "# Loading the dataset\n",
    "dataset = ImageFolder(root=path, transform=transform)\n",
    "\n",
    "# Splitting into train and test sets\n",
    "train_size = int(0.8 * len(dataset))\n",
    "test_size = len(dataset) - train_size\n",
    "train_dataset, test_dataset = random_split(dataset, [train_size, test_size])\n",
    "\n",
    "train_loader = DataLoader(train_dataset, batch_size=32, shuffle=True)\n",
    "test_loader = DataLoader(test_dataset, batch_size=32, shuffle=False)\n",
    "\n",
    "# CNN to extract image features\n",
    "class CNN(nn.Module):\n",
    "    def __init__(self):\n",
    "        super().__init__()\n",
    "        # Processes the image. Outputs feature vector\n",
    "        resnet = models.resnet18(weights=ResNet18_Weights.DEFAULT)\n",
    "        # Removes last classification layer\n",
    "        modules = list(resnet.children())[:-1]\n",
    "        self.resnet = nn.Sequential(*modules)\n",
    "    \n",
    "    def forward(self, x):\n",
    "        with torch.no_grad():\n",
    "            features = self.resnet(x)\n",
    "            # Flatten then return\n",
    "            return features.view(features.size(0), -1)"
   ]
  },
  {
   "cell_type": "code",
   "execution_count": null,
   "id": "91f9f24c",
   "metadata": {},
   "outputs": [
    {
     "ename": "ValueError",
     "evalue": "The number of classes has to be greater than one; got 1 class",
     "output_type": "error",
     "traceback": [
      "\u001b[31m---------------------------------------------------------------------------\u001b[39m",
      "\u001b[31mValueError\u001b[39m                                Traceback (most recent call last)",
      "\u001b[36mCell\u001b[39m\u001b[36m \u001b[39m\u001b[32mIn[32]\u001b[39m\u001b[32m, line 27\u001b[39m\n\u001b[32m     25\u001b[39m random_forest.fit(X, y)\n\u001b[32m     26\u001b[39m decision_tree.fit(X, y)\n\u001b[32m---> \u001b[39m\u001b[32m27\u001b[39m \u001b[43msvc\u001b[49m\u001b[43m.\u001b[49m\u001b[43mfit\u001b[49m\u001b[43m(\u001b[49m\u001b[43mX\u001b[49m\u001b[43m,\u001b[49m\u001b[43m \u001b[49m\u001b[43my\u001b[49m\u001b[43m)\u001b[49m\n",
      "\u001b[36mFile \u001b[39m\u001b[32m~\\AppData\\Local\\Packages\\PythonSoftwareFoundation.Python.3.11_qbz5n2kfra8p0\\LocalCache\\local-packages\\Python311\\site-packages\\sklearn\\base.py:1365\u001b[39m, in \u001b[36m_fit_context.<locals>.decorator.<locals>.wrapper\u001b[39m\u001b[34m(estimator, *args, **kwargs)\u001b[39m\n\u001b[32m   1358\u001b[39m     estimator._validate_params()\n\u001b[32m   1360\u001b[39m \u001b[38;5;28;01mwith\u001b[39;00m config_context(\n\u001b[32m   1361\u001b[39m     skip_parameter_validation=(\n\u001b[32m   1362\u001b[39m         prefer_skip_nested_validation \u001b[38;5;129;01mor\u001b[39;00m global_skip_validation\n\u001b[32m   1363\u001b[39m     )\n\u001b[32m   1364\u001b[39m ):\n\u001b[32m-> \u001b[39m\u001b[32m1365\u001b[39m     \u001b[38;5;28;01mreturn\u001b[39;00m \u001b[43mfit_method\u001b[49m\u001b[43m(\u001b[49m\u001b[43mestimator\u001b[49m\u001b[43m,\u001b[49m\u001b[43m \u001b[49m\u001b[43m*\u001b[49m\u001b[43margs\u001b[49m\u001b[43m,\u001b[49m\u001b[43m \u001b[49m\u001b[43m*\u001b[49m\u001b[43m*\u001b[49m\u001b[43mkwargs\u001b[49m\u001b[43m)\u001b[49m\n",
      "\u001b[36mFile \u001b[39m\u001b[32m~\\AppData\\Local\\Packages\\PythonSoftwareFoundation.Python.3.11_qbz5n2kfra8p0\\LocalCache\\local-packages\\Python311\\site-packages\\sklearn\\svm\\_base.py:207\u001b[39m, in \u001b[36mBaseLibSVM.fit\u001b[39m\u001b[34m(self, X, y, sample_weight)\u001b[39m\n\u001b[32m    196\u001b[39m \u001b[38;5;28;01melse\u001b[39;00m:\n\u001b[32m    197\u001b[39m     X, y = validate_data(\n\u001b[32m    198\u001b[39m         \u001b[38;5;28mself\u001b[39m,\n\u001b[32m    199\u001b[39m         X,\n\u001b[32m   (...)\u001b[39m\u001b[32m    204\u001b[39m         accept_large_sparse=\u001b[38;5;28;01mFalse\u001b[39;00m,\n\u001b[32m    205\u001b[39m     )\n\u001b[32m--> \u001b[39m\u001b[32m207\u001b[39m y = \u001b[38;5;28;43mself\u001b[39;49m\u001b[43m.\u001b[49m\u001b[43m_validate_targets\u001b[49m\u001b[43m(\u001b[49m\u001b[43my\u001b[49m\u001b[43m)\u001b[49m\n\u001b[32m    209\u001b[39m sample_weight = np.asarray(\n\u001b[32m    210\u001b[39m     [] \u001b[38;5;28;01mif\u001b[39;00m sample_weight \u001b[38;5;129;01mis\u001b[39;00m \u001b[38;5;28;01mNone\u001b[39;00m \u001b[38;5;28;01melse\u001b[39;00m sample_weight, dtype=np.float64\n\u001b[32m    211\u001b[39m )\n\u001b[32m    212\u001b[39m solver_type = LIBSVM_IMPL.index(\u001b[38;5;28mself\u001b[39m._impl)\n",
      "\u001b[36mFile \u001b[39m\u001b[32m~\\AppData\\Local\\Packages\\PythonSoftwareFoundation.Python.3.11_qbz5n2kfra8p0\\LocalCache\\local-packages\\Python311\\site-packages\\sklearn\\svm\\_base.py:751\u001b[39m, in \u001b[36mBaseSVC._validate_targets\u001b[39m\u001b[34m(self, y)\u001b[39m\n\u001b[32m    749\u001b[39m \u001b[38;5;28mself\u001b[39m.class_weight_ = compute_class_weight(\u001b[38;5;28mself\u001b[39m.class_weight, classes=\u001b[38;5;28mcls\u001b[39m, y=y_)\n\u001b[32m    750\u001b[39m \u001b[38;5;28;01mif\u001b[39;00m \u001b[38;5;28mlen\u001b[39m(\u001b[38;5;28mcls\u001b[39m) < \u001b[32m2\u001b[39m:\n\u001b[32m--> \u001b[39m\u001b[32m751\u001b[39m     \u001b[38;5;28;01mraise\u001b[39;00m \u001b[38;5;167;01mValueError\u001b[39;00m(\n\u001b[32m    752\u001b[39m         \u001b[33m\"\u001b[39m\u001b[33mThe number of classes has to be greater than one; got \u001b[39m\u001b[38;5;132;01m%d\u001b[39;00m\u001b[33m class\u001b[39m\u001b[33m\"\u001b[39m\n\u001b[32m    753\u001b[39m         % \u001b[38;5;28mlen\u001b[39m(\u001b[38;5;28mcls\u001b[39m)\n\u001b[32m    754\u001b[39m     )\n\u001b[32m    756\u001b[39m \u001b[38;5;28mself\u001b[39m.classes_ = \u001b[38;5;28mcls\u001b[39m\n\u001b[32m    758\u001b[39m \u001b[38;5;28;01mreturn\u001b[39;00m np.asarray(y, dtype=np.float64, order=\u001b[33m\"\u001b[39m\u001b[33mC\u001b[39m\u001b[33m\"\u001b[39m)\n",
      "\u001b[31mValueError\u001b[39m: The number of classes has to be greater than one; got 1 class"
     ]
    }
   ],
   "source": [
    "model = CNN()\n",
    "\n",
    "criterion = nn.CrossEntropyLoss()\n",
    "optimizer = torch.optim.Adam(model.parameters(), lr=learning_rate)\n",
    "n_total_steps = len(train_loader)\n",
    "\n",
    "# sklearn models\n",
    "random_forest = RandomForestClassifier()\n",
    "decision_tree = DecisionTreeClassifier()\n",
    "svc = SVC()\n",
    "\n",
    "train_outputs = []\n",
    "train_labels = []\n",
    "# Looping through CNN and getting the outputs then\n",
    "# Removing gradient tracking, convert to numpy, then\n",
    "# Append to regular arrays to later fit into ML models\n",
    "for images, labels in train_loader:\n",
    "    output = model(images)\n",
    "    train_outputs.append(output.detach().numpy())\n",
    "    train_labels.append(labels.detach().numpy())\n",
    "    \n",
    "X = np.vstack(train_outputs)\n",
    "y = np.hstack(train_labels)\n",
    "\n",
    "random_forest.fit(X, y)\n",
    "decision_tree.fit(X, y)\n",
    "svc.fit(X, y) #The number of classes has to be greater than one; got 1 class"
   ]
  },
  {
   "cell_type": "code",
   "execution_count": null,
   "id": "00bf2417",
   "metadata": {},
   "outputs": [
    {
     "ename": "AttributeError",
     "evalue": "'SVC' object has no attribute 'support_vectors_'",
     "output_type": "error",
     "traceback": [
      "\u001b[31m---------------------------------------------------------------------------\u001b[39m",
      "\u001b[31mAttributeError\u001b[39m                            Traceback (most recent call last)",
      "\u001b[36mCell\u001b[39m\u001b[36m \u001b[39m\u001b[32mIn[33]\u001b[39m\u001b[32m, line 14\u001b[39m\n\u001b[32m     12\u001b[39m r_pred = random_forest.predict(X)\n\u001b[32m     13\u001b[39m d_pred = decision_tree.predict(X)\n\u001b[32m---> \u001b[39m\u001b[32m14\u001b[39m s_pred = \u001b[43msvc\u001b[49m\u001b[43m.\u001b[49m\u001b[43mpredict\u001b[49m\u001b[43m(\u001b[49m\u001b[43mX\u001b[49m\u001b[43m)\u001b[49m\n\u001b[32m     16\u001b[39m \u001b[38;5;28mprint\u001b[39m(accuracy_score(y, r_pred))\n\u001b[32m     17\u001b[39m \u001b[38;5;28mprint\u001b[39m(accuracy_score(y, d_pred))\n",
      "\u001b[36mFile \u001b[39m\u001b[32m~\\AppData\\Local\\Packages\\PythonSoftwareFoundation.Python.3.11_qbz5n2kfra8p0\\LocalCache\\local-packages\\Python311\\site-packages\\sklearn\\svm\\_base.py:822\u001b[39m, in \u001b[36mBaseSVC.predict\u001b[39m\u001b[34m(self, X)\u001b[39m\n\u001b[32m    820\u001b[39m     y = np.argmax(\u001b[38;5;28mself\u001b[39m.decision_function(X), axis=\u001b[32m1\u001b[39m)\n\u001b[32m    821\u001b[39m \u001b[38;5;28;01melse\u001b[39;00m:\n\u001b[32m--> \u001b[39m\u001b[32m822\u001b[39m     y = \u001b[38;5;28;43msuper\u001b[39;49m\u001b[43m(\u001b[49m\u001b[43m)\u001b[49m\u001b[43m.\u001b[49m\u001b[43mpredict\u001b[49m\u001b[43m(\u001b[49m\u001b[43mX\u001b[49m\u001b[43m)\u001b[49m\n\u001b[32m    823\u001b[39m \u001b[38;5;28;01mreturn\u001b[39;00m \u001b[38;5;28mself\u001b[39m.classes_.take(np.asarray(y, dtype=np.intp))\n",
      "\u001b[36mFile \u001b[39m\u001b[32m~\\AppData\\Local\\Packages\\PythonSoftwareFoundation.Python.3.11_qbz5n2kfra8p0\\LocalCache\\local-packages\\Python311\\site-packages\\sklearn\\svm\\_base.py:436\u001b[39m, in \u001b[36mBaseLibSVM.predict\u001b[39m\u001b[34m(self, X)\u001b[39m\n\u001b[32m    420\u001b[39m \u001b[38;5;28;01mdef\u001b[39;00m\u001b[38;5;250m \u001b[39m\u001b[34mpredict\u001b[39m(\u001b[38;5;28mself\u001b[39m, X):\n\u001b[32m    421\u001b[39m \u001b[38;5;250m    \u001b[39m\u001b[33;03m\"\"\"Perform regression on samples in X.\u001b[39;00m\n\u001b[32m    422\u001b[39m \n\u001b[32m    423\u001b[39m \u001b[33;03m    For an one-class model, +1 (inlier) or -1 (outlier) is returned.\u001b[39;00m\n\u001b[32m   (...)\u001b[39m\u001b[32m    434\u001b[39m \u001b[33;03m        The predicted values.\u001b[39;00m\n\u001b[32m    435\u001b[39m \u001b[33;03m    \"\"\"\u001b[39;00m\n\u001b[32m--> \u001b[39m\u001b[32m436\u001b[39m     X = \u001b[38;5;28;43mself\u001b[39;49m\u001b[43m.\u001b[49m\u001b[43m_validate_for_predict\u001b[49m\u001b[43m(\u001b[49m\u001b[43mX\u001b[49m\u001b[43m)\u001b[49m\n\u001b[32m    437\u001b[39m     predict = \u001b[38;5;28mself\u001b[39m._sparse_predict \u001b[38;5;28;01mif\u001b[39;00m \u001b[38;5;28mself\u001b[39m._sparse \u001b[38;5;28;01melse\u001b[39;00m \u001b[38;5;28mself\u001b[39m._dense_predict\n\u001b[32m    438\u001b[39m     \u001b[38;5;28;01mreturn\u001b[39;00m predict(X)\n",
      "\u001b[36mFile \u001b[39m\u001b[32m~\\AppData\\Local\\Packages\\PythonSoftwareFoundation.Python.3.11_qbz5n2kfra8p0\\LocalCache\\local-packages\\Python311\\site-packages\\sklearn\\svm\\_base.py:644\u001b[39m, in \u001b[36mBaseLibSVM._validate_for_predict\u001b[39m\u001b[34m(self, X)\u001b[39m\n\u001b[32m    637\u001b[39m         \u001b[38;5;28;01mraise\u001b[39;00m \u001b[38;5;167;01mValueError\u001b[39;00m(\n\u001b[32m    638\u001b[39m             \u001b[33m\"\u001b[39m\u001b[33mX.shape[1] = \u001b[39m\u001b[38;5;132;01m%d\u001b[39;00m\u001b[33m should be equal to \u001b[39m\u001b[38;5;132;01m%d\u001b[39;00m\u001b[33m, \u001b[39m\u001b[33m\"\u001b[39m\n\u001b[32m    639\u001b[39m             \u001b[33m\"\u001b[39m\u001b[33mthe number of samples at training time\u001b[39m\u001b[33m\"\u001b[39m\n\u001b[32m    640\u001b[39m             % (X.shape[\u001b[32m1\u001b[39m], \u001b[38;5;28mself\u001b[39m.shape_fit_[\u001b[32m0\u001b[39m])\n\u001b[32m    641\u001b[39m         )\n\u001b[32m    642\u001b[39m \u001b[38;5;66;03m# Fixes https://nvd.nist.gov/vuln/detail/CVE-2020-28975\u001b[39;00m\n\u001b[32m    643\u001b[39m \u001b[38;5;66;03m# Check that _n_support is consistent with support_vectors\u001b[39;00m\n\u001b[32m--> \u001b[39m\u001b[32m644\u001b[39m sv = \u001b[38;5;28;43mself\u001b[39;49m\u001b[43m.\u001b[49m\u001b[43msupport_vectors_\u001b[49m\n\u001b[32m    645\u001b[39m \u001b[38;5;28;01mif\u001b[39;00m \u001b[38;5;129;01mnot\u001b[39;00m \u001b[38;5;28mself\u001b[39m._sparse \u001b[38;5;129;01mand\u001b[39;00m sv.size > \u001b[32m0\u001b[39m \u001b[38;5;129;01mand\u001b[39;00m \u001b[38;5;28mself\u001b[39m.n_support_.sum() != sv.shape[\u001b[32m0\u001b[39m]:\n\u001b[32m    646\u001b[39m     \u001b[38;5;28;01mraise\u001b[39;00m \u001b[38;5;167;01mValueError\u001b[39;00m(\n\u001b[32m    647\u001b[39m         \u001b[33mf\u001b[39m\u001b[33m\"\u001b[39m\u001b[33mThe internal representation of \u001b[39m\u001b[38;5;132;01m{\u001b[39;00m\u001b[38;5;28mself\u001b[39m.\u001b[34m__class__\u001b[39m.\u001b[34m__name__\u001b[39m\u001b[38;5;132;01m}\u001b[39;00m\u001b[33m was altered\u001b[39m\u001b[33m\"\u001b[39m\n\u001b[32m    648\u001b[39m     )\n",
      "\u001b[31mAttributeError\u001b[39m: 'SVC' object has no attribute 'support_vectors_'"
     ]
    }
   ],
   "source": [
    "test_outputs = []\n",
    "test_labels = []\n",
    "\n",
    "for images, labels in train_loader:\n",
    "    output = model(images)\n",
    "    test_outputs.append(output.numpy())\n",
    "    test_labels.append(labels.numpy())\n",
    "\n",
    "X = np.vstack(test_outputs)\n",
    "y = np.hstack(test_labels)\n",
    "\n",
    "r_pred = random_forest.predict(X)\n",
    "d_pred = decision_tree.predict(X)\n",
    "s_pred = svc.predict(X) #'SVC' object has no attribute 'support_vectors_'\n",
    "\n",
    "print(accuracy_score(y, r_pred))\n",
    "print(accuracy_score(y, d_pred))\n",
    "print(accuracy_score(y, s_pred))"
   ]
  }
 ],
 "metadata": {
  "kernelspec": {
   "display_name": "Python 3",
   "language": "python",
   "name": "python3"
  },
  "language_info": {
   "codemirror_mode": {
    "name": "ipython",
    "version": 3
   },
   "file_extension": ".py",
   "mimetype": "text/x-python",
   "name": "python",
   "nbconvert_exporter": "python",
   "pygments_lexer": "ipython3",
   "version": "3.11.9"
  }
 },
 "nbformat": 4,
 "nbformat_minor": 5
}
